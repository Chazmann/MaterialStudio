{
 "cells": [
  {
   "cell_type": "markdown",
   "metadata": {
    "vscode": {
     "languageId": "html"
    }
   },
   "source": [
    "<h1>¿Qué es el DOM? El significado del modelo de objeto de documento en JavaScript</h1>\n",
    "<p>\n",
    "DOM son las siglas de Document Object Model. Es una interfaz de programación que nos permite crear, cambiar o eliminar elementos del documento. También podemos añadir eventos a estos elementos para hacer nuestra página más dinámica.\n",
    "<br>\n",
    "El DOM visualiza el documento HTML como un árbol de nodos. Un nodo representa un elemento HTML.\n",
    "</p>"
   ]
  },
  {
   "cell_type": "code",
   "execution_count": null,
   "metadata": {
    "vscode": {
     "languageId": "html"
    }
   },
   "outputs": [],
   "source": [
    "<!DOCTYPE html>\n",
    "<html lang=\"en\">\n",
    "  <head>\n",
    "    <meta charset=\"UTF-8\">\n",
    "    <meta name=\"viewport\" content=\"width=device-width, initial-scale=1.0\">\n",
    "    <meta http-equiv=\"X-UA-Compatible\" content=\"ie=edge\">\n",
    "    <title>Estructura de arbol del DOM</title>\n",
    "  </head>\n",
    "  <body>\n",
    "    <h1>Estructura de árbol del DOM</h1>\n",
    "    <h2>Aprender sobre el DOM</h2>\n",
    "  </body>\n",
    "</html>"
   ]
  },
  {
   "cell_type": "markdown",
   "metadata": {},
   "source": [
    "Nuestro documento se llama nodo raíz y contiene un nodo hijo que es el elemento HTML. El elemento HTML contiene dos hijos que son los elementos HEAD y BODY.\n",
    "<br>\n",
    "Tanto el elemento HEAD como el elemento BODY tienen hijos propios.\n",
    "<br>\n",
    "Podemos acceder a estos elementos en el documento y hacer cambios en ellos usando JavaScript."
   ]
  },
  {
   "cell_type": "markdown",
   "metadata": {},
   "source": [
    "<h2>Cómo seleccionar elementos en el documento</h2>\n",
    "Hay varios métodos distintos para seleccionar un elemento en el documento HTML.\n",
    "<br>\n",
    "En este artículo, nos centraremos en tres de esos métodos:\n",
    "<br>\n",
    "<pre>getElementById()\n",
    "querySelector()\n",
    "querySelectorAll()\n",
    "getElementById()\n",
    "</pre>\n",
    "<p>En el HTML, los id se utilizan como identificadores únicos para los elementos HTML. Esto significa que no se puede tener el mismo nombre del id para dos elementos diferentes."
   ]
  }
 ],
 "metadata": {
  "language_info": {
   "name": "python"
  }
 },
 "nbformat": 4,
 "nbformat_minor": 2
}
