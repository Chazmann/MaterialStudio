{
 "cells": [
  {
   "cell_type": "markdown",
   "metadata": {},
   "source": [
    "Cómo utilizar la propiedad Style para cambiar los estilos CSS en línea\n",
    "La propiedad style le da la capacidad de cambiar el CSS en su documento HTML.\n",
    "\n",
    "En este ejemplo, vamos a cambiar el texto h1 de negro a azul utilizando la propiedad style.\n",
    "\n",
    "Aquí está nuestro HTML."
   ]
  }
 ],
 "metadata": {
  "language_info": {
   "name": "python"
  }
 },
 "nbformat": 4,
 "nbformat_minor": 2
}
